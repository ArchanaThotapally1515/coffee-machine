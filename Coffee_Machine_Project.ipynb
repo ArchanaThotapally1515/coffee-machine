{
  "cells": [
    {
      "cell_type": "markdown",
      "metadata": {
        "id": "view-in-github",
        "colab_type": "text"
      },
      "source": [
        "<a href=\"https://colab.research.google.com/github/ArchanaThotapally1515/coffee-machine/blob/main/Coffee_Machine_Project.ipynb\" target=\"_parent\"><img src=\"https://colab.research.google.com/assets/colab-badge.svg\" alt=\"Open In Colab\"/></a>"
      ]
    },
    {
      "cell_type": "markdown",
      "metadata": {
        "id": "BPx2i4CrA93i"
      },
      "source": [
        "# Coffee Machine Program Requirements\n",
        "\n",
        "Doc: https://drive.google.com/file/d/1xVbxZItVSND57UjpkRyrILQaFkLbLvmq/view?usp=drive_link"
      ]
    },
    {
      "cell_type": "code",
      "execution_count": null,
      "metadata": {
        "id": "LOk7qh6AA03j"
      },
      "outputs": [],
      "source": [
        "MENU = {\n",
        "    \"espresso\": {\n",
        "        \"ingredients\": {\n",
        "            \"water\": 50,\n",
        "            \"coffee\": 18,\n",
        "        },\n",
        "        \"cost\": 1.5,\n",
        "    },\n",
        "    \"latte\": {\n",
        "        \"ingredients\": {\n",
        "            \"water\": 200,\n",
        "            \"milk\": 150,\n",
        "            \"coffee\": 24,\n",
        "        },\n",
        "        \"cost\": 2.5,\n",
        "    },\n",
        "    \"cappuccino\": {\n",
        "        \"ingredients\": {\n",
        "            \"water\": 250,\n",
        "            \"milk\": 100,\n",
        "            \"coffee\": 24,\n",
        "        },\n",
        "        \"cost\": 3.0,\n",
        "    }\n",
        "}\n",
        "\n",
        "\n",
        "resources = {\n",
        "    \"water\": 300,\n",
        "    \"milk\": 200,\n",
        "    \"coffee\": 100,\n",
        "}\n",
        "\n",
        "class CoffeeMachine:\n",
        "    def __init__(self):\n",
        "        self.resources = resources\n",
        "        self.money = 0\n",
        "\n",
        "    def print_report(self):\n",
        "        print(\"Current resources:\")\n",
        "        for item, amount in self.resources.items():\n",
        "            print(f\"{item.capitalize()}: {amount}\")\n",
        "        print(f\"Money: ${self.money}\")\n",
        "\n",
        "    def check_resources(self, drink):\n",
        "        for item, amount in MENU[drink][\"ingredients\"].items():\n",
        "            if self.resources[item] < amount:\n",
        "                print(f\"Sorry, there is not enough {item}.\")\n",
        "                return False\n",
        "        return True\n",
        "\n",
        "    def process_coins(self, cost):\n",
        "        print(\"Please insert coins.\")\n",
        "        quarters = int(input(\"How many quarters?: \")) * 0.25\n",
        "        dimes = int(input(\"How many dimes?: \")) * 0.10\n",
        "        nickels = int(input(\"How many nickels?: \")) * 0.05\n",
        "        pennies = int(input(\"How many pennies?: \")) * 0.01\n",
        "        total = quarters + dimes + nickels + pennies\n",
        "        if total < cost:\n",
        "            print(\"Sorry, that's not enough money. Money refunded.\")\n",
        "            return 0\n",
        "        elif total > cost:\n",
        "            change = round(total - cost, 2)\n",
        "            print(f\"Here is ${change} in change.\")\n",
        "            return cost\n",
        "        else:\n",
        "            return cost\n",
        "\n",
        "    def make_coffee(self, drink):\n",
        "        for item, amount in MENU[drink][\"ingredients\"].items():\n",
        "            self.resources[item] -= amount\n",
        "        self.money += MENU[drink][\"cost\"]\n",
        "        print(f\"Here is your {drink}. Enjoy!\")\n",
        "\n",
        "    def run(self):\n",
        "        while True:\n",
        "            choice = input(\"What would you like? (espresso/latte/cappuccino): \").lower()\n",
        "\n",
        "            if choice == \"off\":\n",
        "                print(\"Turning off the coffee machine.\")\n",
        "                break\n",
        "\n",
        "            elif choice == \"report\":\n",
        "                self.print_report()\n",
        "\n",
        "            elif choice in MENU:\n",
        "                if self.check_resources(choice):\n",
        "                    cost = MENU[choice][\"cost\"]\n",
        "                    payment = self.process_coins(cost)\n",
        "                    if payment:\n",
        "                        self.make_coffee(choice)\n",
        "            else:\n",
        "                print(\"Invalid input. Please try again.\")\n",
        "\n",
        "# Instantiate the CoffeeMachine class and run it\n",
        "machine = CoffeeMachine()\n",
        "machine.run()"
      ]
    }
  ],
  "metadata": {
    "colab": {
      "provenance": [],
      "include_colab_link": true
    },
    "kernelspec": {
      "display_name": "Python 3",
      "name": "python3"
    },
    "language_info": {
      "name": "python"
    }
  },
  "nbformat": 4,
  "nbformat_minor": 0
}